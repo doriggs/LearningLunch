{
 "cells": [
  {
   "cell_type": "markdown",
   "id": "90939699",
   "metadata": {},
   "source": [
    "# AI TRAINING NOTEBOOK OR SOMETHING I GUESS"
   ]
  },
  {
   "cell_type": "markdown",
   "id": "5d6d150e",
   "metadata": {},
   "source": [
    "## Part ONE: Supervised MACHINE LEARNING"
   ]
  },
  {
   "cell_type": "markdown",
   "id": "c3c9c034",
   "metadata": {},
   "source": [
    "### Types: Linear Regression, Multiple linear, Ridge/Lasso, Logistic Regression"
   ]
  },
  {
   "cell_type": "markdown",
   "id": "7d5b9b29",
   "metadata": {},
   "source": [
    "### Techniques: Cross-Validation, Bias, Variance."
   ]
  },
  {
   "cell_type": "markdown",
   "id": "5b8cf791",
   "metadata": {},
   "source": [
    "### IDK, MORE STUFF: Gradiant Descent, Evaluation Metrics, Decision trees, Random forest."
   ]
  },
  {
   "cell_type": "markdown",
   "id": "868e2060",
   "metadata": {},
   "source": [
    "## Part TWO: UNSUPERVISED"
   ]
  },
  {
   "cell_type": "markdown",
   "id": "ea6820f9",
   "metadata": {},
   "source": [
    "### PCA, other things? IDK man"
   ]
  },
  {
   "cell_type": "markdown",
   "id": "b31a8cbf",
   "metadata": {},
   "source": [
    "## Part THREE: Neural Networks"
   ]
  },
  {
   "cell_type": "markdown",
   "id": "e437f6a3",
   "metadata": {},
   "source": [
    "### Keras, Tensorflow, Pipelines, Tuning, deeper, Regularization"
   ]
  },
  {
   "cell_type": "markdown",
   "id": "bf937f6d",
   "metadata": {},
   "source": [
    "## Part FOUR: Convolutional NN"
   ]
  },
  {
   "cell_type": "markdown",
   "id": "dfaf6e7f",
   "metadata": {},
   "source": [
    "### CNN, Transfer"
   ]
  },
  {
   "cell_type": "markdown",
   "id": "543cb8af",
   "metadata": {},
   "source": [
    "## Part FIVE: Conversational NN"
   ]
  },
  {
   "cell_type": "markdown",
   "id": "d73da50b",
   "metadata": {},
   "source": [
    "### ??? Haven't covered it yet, good luck lol"
   ]
  },
  {
   "cell_type": "markdown",
   "id": "326d4964",
   "metadata": {},
   "source": [
    "## Part SIX"
   ]
  },
  {
   "cell_type": "markdown",
   "id": "c33bf51d",
   "metadata": {},
   "source": [
    "## Part SIX"
   ]
  },
  {
   "cell_type": "markdown",
   "id": "c8b8f4e4",
   "metadata": {},
   "source": [
    "## Part SIX"
   ]
  },
  {
   "cell_type": "markdown",
   "id": "2cd00776",
   "metadata": {},
   "source": [
    "## Part SIX"
   ]
  },
  {
   "cell_type": "markdown",
   "id": "97e9ea7b",
   "metadata": {},
   "source": [
    "## Part SIX"
   ]
  },
  {
   "cell_type": "code",
   "execution_count": null,
   "id": "1507c810",
   "metadata": {},
   "outputs": [],
   "source": []
  }
 ],
 "metadata": {
  "kernelspec": {
   "display_name": "Python 3 (ipykernel)",
   "language": "python",
   "name": "python3"
  },
  "language_info": {
   "codemirror_mode": {
    "name": "ipython",
    "version": 3
   },
   "file_extension": ".py",
   "mimetype": "text/x-python",
   "name": "python",
   "nbconvert_exporter": "python",
   "pygments_lexer": "ipython3",
   "version": "3.9.13"
  }
 },
 "nbformat": 4,
 "nbformat_minor": 5
}
